{
 "cells": [
  {
   "cell_type": "markdown",
   "id": "79936168-006d-42f5-b447-b6cefb36b45f",
   "metadata": {},
   "source": [
    "# Variáveis\n",
    "\n",
    "**Lorem ipsum** dolor sit amet, consectetur adipiscing elit. Nunc luctus\n",
    "bibendum felis dictum sodales.\n",
    "\n",
    "``` python\n",
    "Web VPython 3.1\n",
    "\n",
    "ball = sphere(color=color.cyan)\n",
    "\n",
    "def changecolor(evt):\n",
    "        if evt.text == 'red':\n",
    "                ball.color=color.red\n",
    "                clrbtn.background = color.cyan\n",
    "                clrbtn.text = 'cyan'\n",
    "        else:\n",
    "                ball.color=color.cyan\n",
    "                clrbtn.text = 'red'\n",
    "                clrbtn.background = color.red\n",
    "\n",
    "clrbtn = button( bind=changecolor, text='red', background=color.red )\n",
    "```"
   ]
  },
  {
   "cell_type": "code",
   "execution_count": 1,
   "id": "5212e704-44fd-477c-a106-94310b61cee6",
   "metadata": {
    "execution": {
     "iopub.execute_input": "2024-04-18T00:53:03.423235Z",
     "iopub.status.busy": "2024-04-18T00:53:03.421102Z",
     "iopub.status.idle": "2024-04-18T00:53:03.453344Z",
     "shell.execute_reply": "2024-04-18T00:53:03.451922Z"
    }
   },
   "outputs": [
    {
     "data": {
      "text/markdown": [
       "[projeto-1.1](https://glowscript.org/#/user/prof.jefferson.ro/folder/MyPrograms/program/teste06)"
      ],
      "text/plain": [
       "<IPython.core.display.Markdown object>"
      ]
     },
     "metadata": {},
     "output_type": "display_data"
    },
    {
     "data": {
      "text/html": [
       "\n",
       "        <iframe\n",
       "            width=\"680\"\n",
       "            height=\"500\"\n",
       "            src=\"https://glowscript.org/#/user/prof.jefferson.ro/folder/MyPrograms/program/teste06\"\n",
       "            frameborder=\"0\"\n",
       "            allowfullscreen\n",
       "            \n",
       "        ></iframe>\n",
       "        "
      ],
      "text/plain": [
       "<IPython.lib.display.IFrame at 0x7f162faf0e50>"
      ]
     },
     "execution_count": 1,
     "metadata": {},
     "output_type": "execute_result"
    }
   ],
   "source": [
    "from IPython.display import IFrame, HTML, display, Markdown\n",
    "link = 'https://glowscript.org/#/user/prof.jefferson.ro/folder/MyPrograms/program/teste06'\n",
    "display(Markdown(\"[projeto-1.1](https://glowscript.org/#/user/prof.jefferson.ro/folder/MyPrograms/program/teste06)\"))\n",
    "IFrame(src=link, width=680, height=500)"
   ]
  },
  {
   "cell_type": "markdown",
   "id": "dc34de96-427b-4c66-809d-56bea75561ff",
   "metadata": {},
   "source": [
    "## Variáveis\n",
    "\n",
    "**Lorem ipsum** dolor sit amet, consectetur adipiscing elit. Nunc luctus\n",
    "bibendum felis dictum sodales."
   ]
  },
  {
   "cell_type": "code",
   "execution_count": 2,
   "id": "59e89201-18c8-40af-a457-5da2549af936",
   "metadata": {
    "execution": {
     "iopub.execute_input": "2024-04-18T00:53:03.461237Z",
     "iopub.status.busy": "2024-04-18T00:53:03.460737Z",
     "iopub.status.idle": "2024-04-18T00:53:03.467862Z",
     "shell.execute_reply": "2024-04-18T00:53:03.466475Z"
    }
   },
   "outputs": [
    {
     "name": "stdout",
     "output_type": "stream",
     "text": [
      "4\n"
     ]
    }
   ],
   "source": [
    "print(2+2)"
   ]
  }
 ],
 "metadata": {
  "kernel": "python3",
  "language_info": {
   "codemirror_mode": {
    "name": "ipython",
    "version": 3
   },
   "file_extension": ".py",
   "mimetype": "text/x-python",
   "name": "python",
   "nbconvert_exporter": "python",
   "pygments_lexer": "ipython3",
   "version": "3.11.7"
  }
 },
 "nbformat": 4,
 "nbformat_minor": 5
}
